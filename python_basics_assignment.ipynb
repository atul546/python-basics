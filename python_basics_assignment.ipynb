{
  "nbformat": 4,
  "nbformat_minor": 0,
  "metadata": {
    "colab": {
      "provenance": []
    },
    "kernelspec": {
      "name": "python3",
      "display_name": "Python 3"
    },
    "language_info": {
      "name": "python"
    }
  },
  "cells": [
    {
      "cell_type": "markdown",
      "source": [],
      "metadata": {
        "id": "OUGSzf_Ys41C"
      }
    },
    {
      "cell_type": "code",
      "source": [],
      "metadata": {
        "id": "fN55iOqpzBU0"
      },
      "execution_count": null,
      "outputs": []
    },
    {
      "cell_type": "markdown",
      "source": [
        "## python basics assignment"
      ],
      "metadata": {
        "id": "KPdjF-txuEQo"
      }
    },
    {
      "cell_type": "markdown",
      "source": [
        "### python theory question"
      ],
      "metadata": {
        "id": "ZM-FBrs8vEB7"
      }
    },
    {
      "cell_type": "code",
      "source": [
        "# q.1= What is Python, and why is it popular\n",
        "# ans = .Python is a high-level, interpreted programming language known for its simplicity and readability. It supports multiple programming paradigms, including procedural, object-oriented, and functional programming\n",
        "  its popularity\n",
        "  versatility\n",
        "  simplicity ,work on multiple oprating system ,many libraries and freamwork\n",
        "\n",
        "  # Q 2 = What is an interpreter in Python ?\n",
        "  # ans = An interpreter in Python is a program that executes Python code directly, line by line, rather than compiling it into machine language beforehand. It reads the source code, translates it into an intermediate form, and runs it simultaneously.\n",
        "\n",
        "  # Q 3 = What are pre-defined keywords in Python ?\n",
        "  # ans . = Predefined words that holds a speacial meaning and have specific puporse. Some of the pre-defined keywords are - if, elif, import, etc\n",
        "\n",
        "  # Q 4 = Can keywords be used as variable names ?\n",
        "# ans = No, keywords cannot be used as variable names in Python. Keywords are reserved words that have special meanings and purposes in the Python programming language. Using them as variable names would cause syntax errors because Python would misinterpret the intended functionality of the keyword.\n",
        "\n",
        "# Q 5 == What is mutability in Python ?\n",
        "# ans = Objects/ Container whose state or value can be changed after they are created are called as mutable objects. Mutability means Changeability. List is a type of Mutable object\n",
        "\n",
        "# Q 6 = Why are lists mutable, but tuples are immutable ?\n",
        "# ans = Lists are mutable because they are designed for dynamic operations like adding, removing, or modifying elements, making them flexible for use cases that require frequent changes.\n",
        "     . Tuples are immutable to provide a lightweight, hashable, and stable data structure, suitable for fixed collections of items and ensuring data integrity when used as keys in dictionaries or elements in sets.\n",
        "\n",
        "\n",
        "# Q 7 = What is the difference between “==” and “is” operators in Python\n",
        "# ans = . == (Equality Operator)\n",
        "  . Compares values of two objects to check if they are equa\n",
        "  . Can return True even if the objects are stored at different memory locations\n",
        "  . is (Identity Operator)\n",
        "  . Compares the memory addresses (identity) of two objects to check if they are the same object.\n",
        "  .Returns True only if both variables point to the exact same object in memory.\n",
        "  . Key Difference\n",
        "  . == checks value equality.\n",
        "  . is checks object identity\n",
        "\n",
        "  # Q 8 = What are logical operators in Python ?\n",
        "  # ans = Logical operators in Python are used to combine or modify boolean expressions and return a boolean value (True or False). Python provides three logical operators\n",
        "     1.and (Logical AND) Returns True if both operands are True. Short-circuits: Stops evaluating as soon as it encounters a False. 2.or (Logical OR) Returns True if at least one operand is True. Short-circuits: Stops evaluating as soon as it encounters a True. 3.not (Logical NOT) Returns the opposite boolean value of the operand. It is a unary operator, meaning it works on a single operand.\n",
        "\n",
        "# Q 9 = -What is type casting in Python ?\n",
        "# ans = The Process of changing the data type of a value. (Type Conversion)\n",
        "There are two varities of typecasting in python namely-\n",
        "Implicit Typecasting\n",
        "Explicit Typecasting\n",
        "\n",
        "# Q 10 = -What is the difference between implicit and explicit type casting ?\n",
        " # ans = The difference between implicit and explicit type casting lies in who performs the conversion and how it occurs:\n",
        " 1.Implicit Type Casting Performed by Python automatically. Happens when Python converts one data type to another without user intervention. Ensures no loss of data or precision. Typically occurs in numeric operations (e.g., combining int and float)\n",
        " 2.Explicit Type Casting Performed manually by the programmer. Achieved using Python’s built-in functions like int(), float(), str(), etc. Used when you need to forcefully convert a data type. Can lead to data loss if not used carefully.\n",
        "\n",
        " # Q 11 = What is the purpose of conditional statements in Python ?\n",
        " # ans . The purpose of conditional statements in Python is to enable decision-making in a program. They allow the program to execute specific blocks of code based on whether a condition (or set of conditions) evaluates to True or False. This helps in controlling the program's flow dynamically.\n",
        "     . Key Uses of Conditional Statements\n",
        "     . Decision Making: Execute different code paths based on conditions\n",
        "     . Control Flow: Change the flow of execution based on dynamic inputs or logic.\n",
        "     . Validation: Check and enforce conditions before performing actions. -Types of Conditional Statements in Python\n",
        "     . if Statement\n",
        "     . if-else\n",
        "     . if-elif-else\n",
        "     . nested if-else\n",
        "\n",
        "# Q 12 = How does the elif statement work ?\n",
        "# ans = The elif statement in Python is used for multiple conditional checks. It stands for \"else if\" and allows you to test several conditions in sequence. When the program encounters an elif, it evaluates the condition associated with it, and if the condition is True, it executes the block of code under that elif.\n",
        "    If the condition is False, the program moves to the next elif or else statement, (if any).\n",
        "\n",
        "\n",
        "# Q 13 = What is the difference between for and while loops ?\n",
        "# ans = The key difference between for and while loops in Python lies in their structure and use cases: 1.for Loop Purpose: The for loop is used to iterate over a sequence (like a list, tuple, string, or range) for a specific number of times.\n",
        "    . When to use: When you know the number of iterations in advance or you are iterating over a collection (like a list or range).\n",
        "    .Control: The loop automatically handles the iteration, and you don't need to manually update the loop variable. 2.while Loop Purpose: The while loop continues executing as long as the given condition is True.\n",
        "    . When to use: When you don't know beforehand how many iterations are needed and you want the loop to run until a condition is met.\n",
        "    . Control: You need to manually update the condition within the loop to prevent an infinite loop.\n",
        "\n",
        "# Q 14 = Describe a scenario where a while loop is more suitable than a for loop\n",
        "# ans = A while loop is more suitable than a for loop when the number of iterations is - not known in advance and the loop should continue as long as a certain condition is true. Imagine you're building a program that prompts the user to enter a valid password. You don't know how many attempts the user will need, so you need the loop to continue until the user enters a valid password.\n",
        "    password = \"secret123\" user_input = \"\"\n",
        "    while user_input != password: user_input = input(\"Enter your password: \") if user_input != password: print(\"Invalid password, try again.\") print(\"Password accepted!\")\n",
        "    . Explanation: The while loop continues to ask for the password until the user enters the correct one.\n",
        "    . The condition (user_input != password) is checked each time, and the loop keeps running until the condition becomes False (i.e., the user enters the correct password).\n",
        "    . The number of iterations is not predefined, making the while loop the ideal choice for this scenario\n",
        "    . Why a for loop wouldn't be suitable: A for loop is typically used when you know the number of iterations in advance, such as iterating over a list or range. In this case, since we don't know how many times the user will attempt to enter the password, a for loop isn't ideal unless you explicitly set a fixed number of attempts.\n",
        "\n",
        "\n",
        "\n"
      ],
      "metadata": {
        "id": "n5uosM2pvrQl"
      },
      "execution_count": null,
      "outputs": []
    },
    {
      "cell_type": "markdown",
      "source": [
        "\n",
        "\n",
        "## Python Basics - Practical Questions"
      ],
      "metadata": {
        "id": "878Vp8jd4IpR"
      }
    },
    {
      "cell_type": "code",
      "source": [],
      "metadata": {
        "id": "GX0PAPnqBp2H"
      },
      "execution_count": null,
      "outputs": []
    },
    {
      "cell_type": "code",
      "source": [
        "# Q 1 = Write a Python program to print \"Hello, World!\"\n",
        "print(\"hello word\")"
      ],
      "metadata": {
        "colab": {
          "base_uri": "https://localhost:8080/"
        },
        "id": "g-ieZWYM4OkA",
        "outputId": "342b46f7-83a6-4ca9-8d14-00254d3b7735"
      },
      "execution_count": null,
      "outputs": [
        {
          "output_type": "stream",
          "name": "stdout",
          "text": [
            "hello word\n"
          ]
        }
      ]
    },
    {
      "cell_type": "code",
      "source": [
        "# Q 1 = Write a Python program that displays your name and age.\n",
        "name = \"atul kumar\"\n",
        "age = 26\n",
        "print(\"my name is\", name)\n",
        "print(\"my age is\",age)"
      ],
      "metadata": {
        "colab": {
          "base_uri": "https://localhost:8080/"
        },
        "id": "-79o4Ghj__-W",
        "outputId": "f48d8e88-100a-42b5-8f11-909dc4de2e74"
      },
      "execution_count": null,
      "outputs": [
        {
          "output_type": "stream",
          "name": "stdout",
          "text": [
            "my name is atul kumar\n",
            "my age is 26\n"
          ]
        }
      ]
    },
    {
      "cell_type": "code",
      "source": [
        "# Q 3 =  Write code to print all the pre-defined keywords in Python using the keyword library.\n",
        "\n",
        "help(\"keywords\")"
      ],
      "metadata": {
        "colab": {
          "base_uri": "https://localhost:8080/"
        },
        "id": "sQllb3DPBPoE",
        "outputId": "464052ea-1b54-48a8-dc17-f50c595e7b49"
      },
      "execution_count": null,
      "outputs": [
        {
          "output_type": "stream",
          "name": "stdout",
          "text": [
            "\n",
            "Here is a list of the Python keywords.  Enter any keyword to get more help.\n",
            "\n",
            "False               class               from                or\n",
            "None                continue            global              pass\n",
            "True                def                 if                  raise\n",
            "and                 del                 import              return\n",
            "as                  elif                in                  try\n",
            "assert              else                is                  while\n",
            "async               except              lambda              with\n",
            "await               finally             nonlocal            yield\n",
            "break               for                 not                 \n",
            "\n"
          ]
        }
      ]
    },
    {
      "cell_type": "code",
      "source": [
        "# Q 4 =  Write a program that checks if a given word is a Python keyword.\n",
        "import  keyword\n",
        "a= keyword.kwlist\n",
        "b= (input(\" Enter a Word\"))\n",
        "if b in a:\n",
        "  print(\"The Word is a keyword\")\n",
        "else:\n",
        "  print(\"The Word is not a keyword\")\n",
        "\n"
      ],
      "metadata": {
        "colab": {
          "base_uri": "https://localhost:8080/"
        },
        "id": "wvEE38oCBw6k",
        "outputId": "3c1e95bc-a5d9-4d49-cb24-562470521f4a"
      },
      "execution_count": null,
      "outputs": [
        {
          "output_type": "stream",
          "name": "stdout",
          "text": [
            " Enter a Word the word is keyword\n",
            "The Word is not a keyword\n"
          ]
        }
      ]
    },
    {
      "cell_type": "code",
      "source": [
        "# Q 5= # Create a list and tuple in Python, and demonstrate how attempting to change an element works differently for each.\n",
        "\n",
        "my_list = [10, 20, 30, 40]\n",
        "print(\"Original list:\", my_list)\n",
        "\n",
        "# Modify an element in the list\n",
        "my_list[2] = 99\n",
        "print(\"Modified list:\", my_list)\n",
        "\n",
        "# Create a tuple\n",
        "my_tuple = (10, 20, 30, 40)\n",
        "print(\"\\nOriginal tuple:\", my_tuple)\n",
        "\n",
        "# Attempt to modify an element in the tuple\n",
        "try:\n",
        "    my_tuple[2] = 99  # This will raise an error\n",
        "except TypeError as e:\n",
        "    print(\"Error when trying to modify tuple:\", e)\n"
      ],
      "metadata": {
        "colab": {
          "base_uri": "https://localhost:8080/"
        },
        "id": "d2LBeAY5E-0S",
        "outputId": "b44fc071-21ed-4538-871a-1487a2a0d2bc"
      },
      "execution_count": null,
      "outputs": [
        {
          "output_type": "stream",
          "name": "stdout",
          "text": [
            "Original list: [10, 20, 30, 40]\n",
            "Modified list: [10, 20, 99, 40]\n",
            "\n",
            "Original tuple: (10, 20, 30, 40)\n",
            "Error when trying to modify tuple: 'tuple' object does not support item assignment\n"
          ]
        }
      ]
    },
    {
      "cell_type": "code",
      "source": [
        "# Q 6 = Write a function to demonstrate the behavior of mutable and immutable arguments\n",
        "\n",
        "def modify_immutable(num):\n",
        "    num += 1\n",
        "    print(f\"Inside function: num = {num}\")\n",
        "\n",
        "def modify_mutable(my_list):\n",
        "    my_list.append(4)\n",
        "    print(f\"Inside function: my_list = {my_list}\")\n",
        "\n",
        "original_num = 5\n",
        "print(f\"Before function call: original_num = {original_num}\")\n",
        "modify_immutable(original_num)\n",
        "print(f\"After function call: original_num = {original_num}\")\n",
        "\n",
        "my_list = [1, 2, 3]\n",
        "print(f\"Before function call: my_list = {my_list}\")\n",
        "modify_mutable(my_list)\n",
        "print(f\"After function call: my_list = {my_list}\")\n"
      ],
      "metadata": {
        "colab": {
          "base_uri": "https://localhost:8080/"
        },
        "id": "2vtrU3tIFpFw",
        "outputId": "2caeb467-c3c0-44b2-b76f-dea693b5cad9"
      },
      "execution_count": null,
      "outputs": [
        {
          "output_type": "stream",
          "name": "stdout",
          "text": [
            "Before function call: original_num = 5\n",
            "Inside function: num = 6\n",
            "After function call: original_num = 5\n",
            "Before function call: my_list = [1, 2, 3]\n",
            "Inside function: my_list = [1, 2, 3, 4]\n",
            "After function call: my_list = [1, 2, 3, 4]\n"
          ]
        }
      ]
    },
    {
      "cell_type": "code",
      "source": [
        "# Q 7 = Write a function to demonstrate the behavior of mutable and immutable arguments.\n",
        "def modify_immutable(num):\n",
        "    num += 1\n",
        "    print(f\"Inside function: num = {num}\")\n",
        "\n",
        "def modify_mutable(my_list):\n",
        "    my_list.append(4)\n",
        "    print(f\"Inside function: my_list = {my_list}\")\n",
        "\n",
        "original_num = 5\n",
        "print(f\"Before function call: original_num = {original_num}\")\n",
        "modify_immutable(original_num)\n",
        "print(f\"After function call: original_num = {original_num}\")\n",
        "\n",
        "my_list = [1, 2, 3]\n",
        "print(f\"Before function call: my_list = {my_list}\")\n",
        "modify_mutable(my_list)\n",
        "print(f\"After function call: my_list = {my_list}\")\n",
        "\n"
      ],
      "metadata": {
        "colab": {
          "base_uri": "https://localhost:8080/"
        },
        "id": "VUQtSOh6GnA1",
        "outputId": "0f3a081c-ab33-404d-e942-60679d4f0506"
      },
      "execution_count": null,
      "outputs": [
        {
          "output_type": "stream",
          "name": "stdout",
          "text": [
            "Before function call: original_num = 5\n",
            "Inside function: num = 6\n",
            "After function call: original_num = 5\n",
            "Before function call: my_list = [1, 2, 3]\n",
            "Inside function: my_list = [1, 2, 3, 4]\n",
            "After function call: my_list = [1, 2, 3, 4]\n"
          ]
        }
      ]
    },
    {
      "cell_type": "code",
      "source": [
        "# Q 8 =  Write a program to demonstrate the use of logical operators.\n",
        "\n",
        "a = True\n",
        "b = False\n",
        "print(\"AND Operator\")\n",
        "print(f\"{a and b}\") #Output is False because one of them is False.\n",
        "print(f\"{a and a}\") #Output will be True only when both of them are True\n",
        "print(\"\")\n",
        "print(\"OR Operator\")\n",
        "print(f\"{a or b}\") #Output is True because one of them is True.\n",
        "print(f\"{b or b}\") #Output will be False only when both of them are False.\n",
        "print(\"\")\n",
        "print(\"NOT Operator\")\n",
        "print(f\"{not a}\") #Output is False because a is True.\n",
        "print(f\"{not b}\") #Output is True because b is False.\n"
      ],
      "metadata": {
        "colab": {
          "base_uri": "https://localhost:8080/"
        },
        "id": "nsA7A1j7Hi3W",
        "outputId": "cf06dd9c-30fb-4818-d8bd-847bfd06589b"
      },
      "execution_count": null,
      "outputs": [
        {
          "output_type": "stream",
          "name": "stdout",
          "text": [
            "AND Operator\n",
            "False\n",
            "True\n",
            "\n",
            "OR Operator\n",
            "True\n",
            "False\n",
            "\n",
            "NOT Operator\n",
            "False\n",
            "True\n"
          ]
        }
      ]
    },
    {
      "cell_type": "code",
      "source": [
        "# Q 9 =  Write a Python program to convert user input from string to integer, float, and boolean types\n",
        "a= input(\"Enter a string to change it's type\")\n",
        "b= input(\"Select type - Integer Float Boolean\")\n",
        "if b==\"Integer\":\n",
        "  print(int(a))\n",
        "elif b==\"Float\":\n",
        "  print(float(a))\n",
        "elif b==\"Boolean\":\n",
        "  print(bool(a))\n",
        "else:\n",
        "  print(\"Invalid Input\")\n",
        "\n"
      ],
      "metadata": {
        "id": "umx9BQiELqKa"
      },
      "execution_count": null,
      "outputs": []
    },
    {
      "cell_type": "code",
      "source": [
        "# Q 10 =  Write code to demonstrate type casting with list elements\n",
        "my_list = [\"10\", \"20\", \"30\", \"40\"]\n",
        "\n",
        "# Casting each element to integer\n",
        "int_list = [int(x) for x in (my_list)]\n",
        "\n",
        "print(\"Original list:\", my_list)\n",
        "print(\"List after type casting to integers:\", int_list)\n"
      ],
      "metadata": {
        "colab": {
          "base_uri": "https://localhost:8080/"
        },
        "id": "TrhEG2J5M62N",
        "outputId": "9a032379-8fa8-4435-d176-0cd8b196eb29"
      },
      "execution_count": null,
      "outputs": [
        {
          "output_type": "stream",
          "name": "stdout",
          "text": [
            "Original list: ['10', '20', '30', '40']\n",
            "List after type casting to integers: [10, 20, 30, 40]\n"
          ]
        }
      ]
    },
    {
      "cell_type": "code",
      "source": [
        "# Q 11 = Write a program that checks if a number is positive, negative, or zero\n",
        "\n",
        "a= int(input(\"Enter a number\"))\n",
        "if a>0:\n",
        "  print(\"The number is positive\")\n",
        "elif a<0:\n",
        "  print(\"The number is negative\")\n",
        "else:\n",
        "  print(\"The number is zero\")\n",
        "\n"
      ],
      "metadata": {
        "colab": {
          "base_uri": "https://localhost:8080/"
        },
        "id": "NAk0LqdMNl3o",
        "outputId": "08188038-d4fc-4586-be6b-74e1da9d0c61"
      },
      "execution_count": null,
      "outputs": [
        {
          "output_type": "stream",
          "name": "stdout",
          "text": [
            "Enter a number1\n",
            "The number is positive\n"
          ]
        }
      ]
    },
    {
      "cell_type": "code",
      "source": [
        "# Q 12 =  Write a for loop to print numbers from 1 to 10.\n",
        "\n",
        "for i in range(1,11):\n",
        "  print(i)"
      ],
      "metadata": {
        "colab": {
          "base_uri": "https://localhost:8080/"
        },
        "id": "S_7iFSBsN0Yf",
        "outputId": "7e07ebb9-a80c-4944-cb35-4566df931fec"
      },
      "execution_count": null,
      "outputs": [
        {
          "output_type": "stream",
          "name": "stdout",
          "text": [
            "1\n",
            "2\n",
            "3\n",
            "4\n",
            "5\n",
            "6\n",
            "7\n",
            "8\n",
            "9\n",
            "10\n"
          ]
        }
      ]
    },
    {
      "cell_type": "code",
      "source": [
        "# Q 13 = Write a Python program to find the sum of all even numbers between 1 and 50.\n",
        "\n",
        "a = 0\n",
        "for i in range(0, 51):\n",
        "  if i%2==0:\n",
        "    a += i\n",
        "    print(a)\n",
        "print(\"The Sum of even numbers from 1 to 50 is\",a)"
      ],
      "metadata": {
        "colab": {
          "base_uri": "https://localhost:8080/"
        },
        "id": "kvb9qETSN-UI",
        "outputId": "1ad57e12-b427-4d35-8fb8-0d1bdd110792"
      },
      "execution_count": null,
      "outputs": [
        {
          "output_type": "stream",
          "name": "stdout",
          "text": [
            "0\n",
            "2\n",
            "6\n",
            "12\n",
            "20\n",
            "30\n",
            "42\n",
            "56\n",
            "72\n",
            "90\n",
            "110\n",
            "132\n",
            "156\n",
            "182\n",
            "210\n",
            "240\n",
            "272\n",
            "306\n",
            "342\n",
            "380\n",
            "420\n",
            "462\n",
            "506\n",
            "552\n",
            "600\n",
            "650\n",
            "The Sum of even numbers from 1 to 50 is 650\n"
          ]
        }
      ]
    },
    {
      "cell_type": "code",
      "source": [
        "# Q 14 =  Write a program to reverse a string using a while loop?\n",
        "\n",
        "a = (\"atul\")\n",
        "while len(a) > 0:\n",
        "  print(a[-1])\n",
        "  a = a[:-1]"
      ],
      "metadata": {
        "colab": {
          "base_uri": "https://localhost:8080/"
        },
        "id": "M1l93eU4OHV-",
        "outputId": "ff2ba5e7-4782-4e79-de53-71ea2852af69"
      },
      "execution_count": null,
      "outputs": [
        {
          "output_type": "stream",
          "name": "stdout",
          "text": [
            "l\n",
            "u\n",
            "t\n",
            "a\n"
          ]
        }
      ]
    },
    {
      "cell_type": "code",
      "source": [
        "# Q 15 = Write a Python program to calculate the factorial of a number provided by the user using a while loop.\n",
        "\n",
        "a = int(input(\"Enter a number\"))\n",
        "b = 1\n",
        "while a > 0:\n",
        "  b *= a\n",
        "  a -= 1\n",
        "print(b)"
      ],
      "metadata": {
        "colab": {
          "base_uri": "https://localhost:8080/"
        },
        "id": "7Bl97KWvOVbw",
        "outputId": "c7c8a541-9a94-4486-cd61-af8a632e6d88"
      },
      "execution_count": null,
      "outputs": [
        {
          "output_type": "stream",
          "name": "stdout",
          "text": [
            "Enter a number4\n",
            "24\n"
          ]
        }
      ]
    }
  ]
}